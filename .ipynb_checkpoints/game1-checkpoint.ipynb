{
 "cells": [
  {
   "cell_type": "code",
   "execution_count": 1,
   "metadata": {},
   "outputs": [
    {
     "name": "stdout",
     "output_type": "stream",
     "text": [
      "pygame 1.9.6\n",
      "Hello from the pygame community. https://www.pygame.org/contribute.html\n"
     ]
    }
   ],
   "source": [
    "import pygame\n",
    "pygame.init()\n",
    "window = pygame.display.set_mode((500,500))\n",
    "pygame.display.set_caption('Game')\n",
    "\n",
    "x = 50\n",
    "y = 50\n",
    "width = 30\n",
    "height = 60\n",
    "vel = 4\n",
    "\n",
    "isJump = False\n",
    "jumpCount = 10\n",
    "run = True\n",
    "left = False\n",
    "right = False\n",
    "while run:\n",
    "    pygame.time.delay(100)\n",
    "    \n",
    "    ###only this wont show rect\n",
    "    pygame.draw.rect(window,(0,255,0),(x,y,width,height))\n",
    "    ###adding this will show up\n",
    "    pygame.display.update()\n",
    "    \n",
    "    ##############IMPORTANT#####################\n",
    "    keys = pygame.key.get_pressed()\n",
    "    \n",
    "    if keys[pygame.K_LEFT] and x>vel:\n",
    "        x-=vel\n",
    "    if keys[pygame.K_RIGHT] and x+width+vel<500:\n",
    "        x+=vel\n",
    "    \n",
    "    ###jumping is only allowed if currently player is not in jump mode\n",
    "    if not isJump:\n",
    "       # if keys[pygame.K_UP] and y>vel:\n",
    "       #     y-=vel\n",
    "       # if keys[pygame.K_DOWN] and y+height+vel<500:\n",
    "       #     y+=vel\n",
    "        if keys[pygame.K_SPACE]:\n",
    "            isJump = True\n",
    "    else:\n",
    "        mul = 0.5\n",
    "        #########if in jumping state\n",
    "        if jumpCount >= -10:\n",
    "            #### mul is used to make positive and negative increements while jumping\n",
    "            if jumpCount < 0:\n",
    "                mul = -0.5\n",
    "            y = y - (jumpCount**2 * mul)\n",
    "            jumpCount = jumpCount - 1\n",
    "        ######reset jumpcount and isjump as False\n",
    "        else:\n",
    "            jumpCount = 10\n",
    "            isJump = False\n",
    "\n",
    "    window.fill((0,0,0))\n",
    "    for event in pygame.event.get():\n",
    "        if event.type == pygame.QUIT:\n",
    "            run = False\n",
    "\n",
    "            \n",
    "pygame.quit()\n",
    "quit()"
   ]
  },
  {
   "cell_type": "code",
   "execution_count": null,
   "metadata": {},
   "outputs": [],
   "source": []
  }
 ],
 "metadata": {
  "kernelspec": {
   "display_name": "Python 3",
   "language": "python",
   "name": "python3"
  },
  "language_info": {
   "codemirror_mode": {
    "name": "ipython",
    "version": 3
   },
   "file_extension": ".py",
   "mimetype": "text/x-python",
   "name": "python",
   "nbconvert_exporter": "python",
   "pygments_lexer": "ipython3",
   "version": "3.7.3"
  }
 },
 "nbformat": 4,
 "nbformat_minor": 2
}
